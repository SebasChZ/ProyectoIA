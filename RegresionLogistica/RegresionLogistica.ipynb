{
 "cells": [
  {
   "cell_type": "code",
   "execution_count": 3,
   "metadata": {},
   "outputs": [],
   "source": [
    "import pandas as pd\n",
    "import matplotlib.pyplot as plt\n",
    "from sklearn.model_selection import train_test_split\n",
    "from sklearn.linear_model import LogisticRegression\n",
    "from sklearn.metrics import accuracy_score, classification_report\n",
    "from sklearn.preprocessing import StandardScaler\n",
    "import tensorflow as tf\n",
    "\n",
    "#datasetDiabetes = pd.read_csv(\"../diabetes.csv\")\n",
    "#datasetDiabetes\n"
   ]
  },
  {
   "cell_type": "code",
   "execution_count": 14,
   "metadata": {},
   "outputs": [],
   "source": [
    "#datasetDiabetes.plot(kind='box', subplots=True, layout=(4,4), figsize=(10, 10))"
   ]
  },
  {
   "cell_type": "code",
   "execution_count": 27,
   "metadata": {},
   "outputs": [],
   "source": [
    "class RegresionLogistica:\n",
    "    def  __init__(self, trainingDataSet, testingDataSet, y_train, y_test):\n",
    "        self.trainingDataSet = trainingDataSet\n",
    "        self.testingDataSet = testingDataSet\n",
    "        self.y_train = y_train\n",
    "        self.y_test = y_test\n",
    "    \n",
    "    def escalarDatos(self):\n",
    "        scaler = StandardScaler()\n",
    "        self.trainingDataSet = scaler.fit_transform(self.trainingDataSet)\n",
    "        self.testingDataSet = scaler.transform(self.testingDataSet)\n",
    "\n",
    "    def calcular(self):\n",
    "        # Inicializar el modelo de regresión logística\n",
    "        modelo_logistico = LogisticRegression()\n",
    "\n",
    "        # Ajustar el modelo al conjunto de entrenamiento\n",
    "        modelo_logistico.fit(self.trainingDataSet, self.y_train)\n",
    "\n",
    "        # Predecir en el conjunto de prueba\n",
    "        y_pred = modelo_logistico.predict(self.testingDataSet)\n",
    "\n",
    "        # Evaluar el rendimiento del modelo\n",
    "        accuracy = accuracy_score(self.y_test, y_pred)\n",
    "        informe_clasificacion = classification_report(self.y_test, y_pred)\n",
    "        recall = recall_score(self.y_test, y_pred)\n",
    "\n",
    "        # Imprimir resultados\n",
    "        print(f'Accuracy del modelo: {accuracy:.2f}')\n",
    "        print('\\nInforme de clasificación:')\n",
    "        print(informe_clasificacion)\n",
    "        print(recall)\n",
    "    \n",
    "    def calcularEpochs(self):\n",
    "        # Define the logistic regression model\n",
    "        model = tf.keras.Sequential([\n",
    "            tf.keras.layers.Input(shape=(self.trainingDataSet.shape[1],)),\n",
    "            tf.keras.layers.Dense(1, activation='sigmoid')\n",
    "        ])\n",
    "\n",
    "        # Compile the model\n",
    "        model.compile(optimizer='adam', loss='binary_crossentropy', metrics=['accuracy'])\n",
    "\n",
    "        # Create a callback to track the loss values\n",
    "        class LossHistory(tf.keras.callbacks.Callback):\n",
    "            def on_epoch_end(self, epoch, logs=None):\n",
    "                print(f\"Epoch {epoch + 1}, Loss: {logs['loss']}, Accuracy: {logs['accuracy']}\")\n",
    "\n",
    "        # Fit the model with the LossHistory callback\n",
    "        history_callback = LossHistory()\n",
    "        model.fit(self.trainingDataSet, self.y_train, epochs=200, batch_size=32, callbacks=[history_callback])\n",
    "\n",
    "        # Evaluate the model\n",
    "        loss, accuracy = model.evaluate(self.testingDataSet, self.y_test)\n",
    "        print(f'Accuracy del modelo: {accuracy:.2f}')\n",
    "\n",
    "        # Make predictions\n",
    "        y_pred = (model.predict(self.testingDataSet) > 0.5).astype(\"int32\")\n",
    "        informe_clasificacion = classification_report(self.y_test, y_pred)\n",
    "        print('\\nInforme de clasificación:')\n",
    "        print(informe_clasificacion)\n"
   ]
  }
 ],
 "metadata": {
  "kernelspec": {
   "display_name": "base",
   "language": "python",
   "name": "python3"
  },
  "language_info": {
   "codemirror_mode": {
    "name": "ipython",
    "version": 3
   },
   "file_extension": ".py",
   "mimetype": "text/x-python",
   "name": "python",
   "nbconvert_exporter": "python",
   "pygments_lexer": "ipython3",
   "version": "3.11.5"
  }
 },
 "nbformat": 4,
 "nbformat_minor": 2
}
